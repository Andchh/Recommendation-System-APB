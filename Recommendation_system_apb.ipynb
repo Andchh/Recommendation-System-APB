{
  "nbformat": 4,
  "nbformat_minor": 0,
  "metadata": {
    "colab": {
      "name": "Cópia de Recommendation system apb",
      "provenance": [],
      "collapsed_sections": [],
      "toc_visible": true
    },
    "kernelspec": {
      "name": "python3",
      "display_name": "Python 3"
    }
  },
  "cells": [
    {
      "cell_type": "markdown",
      "metadata": {
        "id": "PfHXWF3f2bby",
        "colab_type": "text"
      },
      "source": [
        "#Imports"
      ]
    },
    {
      "cell_type": "code",
      "metadata": {
        "id": "e0LiTFHJ18QO",
        "colab_type": "code",
        "colab": {
          "base_uri": "https://localhost:8080/",
          "height": 34
        },
        "outputId": "472ffff9-04d8-466a-a48e-bf6d5cd1453e"
      },
      "source": [
        "import numpy as np\n",
        "import pandas as pd\n",
        "import matplotlib.pyplot as plt\n",
        "import os\n",
        "import warnings\n",
        "\n",
        "from keras.layers import Input, Embedding, Flatten, Dot, Dense, Concatenate\n",
        "from keras.models import Model\n",
        "\n",
        "warnings.filterwarnings('ignore')\n",
        "%matplotlib inline"
      ],
      "execution_count": 3,
      "outputs": [
        {
          "output_type": "stream",
          "text": [
            "Using TensorFlow backend.\n"
          ],
          "name": "stderr"
        }
      ]
    },
    {
      "cell_type": "markdown",
      "metadata": {
        "id": "RCylyqJo2gow",
        "colab_type": "text"
      },
      "source": [
        "#Loading Data"
      ]
    },
    {
      "cell_type": "markdown",
      "metadata": {
        "id": "nsCcQnYhOPXt",
        "colab_type": "text"
      },
      "source": [
        "Here we loaded the dataset filtered by filial number. Also i gave a unique id starting with 1 for every client because the id followed no rules before and was messing with the size of the neural network."
      ]
    },
    {
      "cell_type": "code",
      "metadata": {
        "id": "R8p4EiIW2hY9",
        "colab_type": "code",
        "colab": {}
      },
      "source": [
        "dataset = pd.read_csv('/content/filt.csv')"
      ],
      "execution_count": 4,
      "outputs": []
    },
    {
      "cell_type": "code",
      "metadata": {
        "id": "lDRb58gK207i",
        "colab_type": "code",
        "colab": {
          "base_uri": "https://localhost:8080/",
          "height": 204
        },
        "outputId": "aa994772-fe76-44b9-97db-7fba7d8b2827"
      },
      "source": [
        "dataset.head()\n"
      ],
      "execution_count": 5,
      "outputs": [
        {
          "output_type": "execute_result",
          "data": {
            "text/html": [
              "<div>\n",
              "<style scoped>\n",
              "    .dataframe tbody tr th:only-of-type {\n",
              "        vertical-align: middle;\n",
              "    }\n",
              "\n",
              "    .dataframe tbody tr th {\n",
              "        vertical-align: top;\n",
              "    }\n",
              "\n",
              "    .dataframe thead th {\n",
              "        text-align: right;\n",
              "    }\n",
              "</style>\n",
              "<table border=\"1\" class=\"dataframe\">\n",
              "  <thead>\n",
              "    <tr style=\"text-align: right;\">\n",
              "      <th></th>\n",
              "      <th>NOME_PRODUTO</th>\n",
              "      <th>QUANTIDADE</th>\n",
              "      <th>COD_CLIENTE</th>\n",
              "      <th>COD_PRODUTO</th>\n",
              "    </tr>\n",
              "  </thead>\n",
              "  <tbody>\n",
              "    <tr>\n",
              "      <th>0</th>\n",
              "      <td>SMARTPHONE SAMSUNG GAL J4 CORE 16GB COBRE</td>\n",
              "      <td>9.0</td>\n",
              "      <td>1</td>\n",
              "      <td>1</td>\n",
              "    </tr>\n",
              "    <tr>\n",
              "      <th>1</th>\n",
              "      <td>SUPORTE UNIV. BEDIN BU-25</td>\n",
              "      <td>8.0</td>\n",
              "      <td>2</td>\n",
              "      <td>2</td>\n",
              "    </tr>\n",
              "    <tr>\n",
              "      <th>2</th>\n",
              "      <td>SUPORTE UNIV. BEDIN BU-25</td>\n",
              "      <td>7.0</td>\n",
              "      <td>3</td>\n",
              "      <td>2</td>\n",
              "    </tr>\n",
              "    <tr>\n",
              "      <th>3</th>\n",
              "      <td>ANTENA 1.70 MT MULTIPONTO CENTURY</td>\n",
              "      <td>7.0</td>\n",
              "      <td>4</td>\n",
              "      <td>3</td>\n",
              "    </tr>\n",
              "    <tr>\n",
              "      <th>4</th>\n",
              "      <td>RECEPTOR MIDIA BOX HDTV B3</td>\n",
              "      <td>6.0</td>\n",
              "      <td>5</td>\n",
              "      <td>4</td>\n",
              "    </tr>\n",
              "  </tbody>\n",
              "</table>\n",
              "</div>"
            ],
            "text/plain": [
              "                                    NOME_PRODUTO  ...  COD_PRODUTO\n",
              "0  SMARTPHONE SAMSUNG GAL J4 CORE 16GB COBRE      ...            1\n",
              "1  SUPORTE UNIV. BEDIN BU-25                      ...            2\n",
              "2  SUPORTE UNIV. BEDIN BU-25                      ...            2\n",
              "3  ANTENA 1.70 MT MULTIPONTO CENTURY              ...            3\n",
              "4  RECEPTOR MIDIA BOX HDTV B3                     ...            4\n",
              "\n",
              "[5 rows x 4 columns]"
            ]
          },
          "metadata": {
            "tags": []
          },
          "execution_count": 5
        }
      ]
    },
    {
      "cell_type": "code",
      "metadata": {
        "id": "IBSFH4Ou24R2",
        "colab_type": "code",
        "colab": {
          "base_uri": "https://localhost:8080/",
          "height": 34
        },
        "outputId": "975f933b-1140-4598-d977-fb3658019404"
      },
      "source": [
        "dataset.shape"
      ],
      "execution_count": 6,
      "outputs": [
        {
          "output_type": "execute_result",
          "data": {
            "text/plain": [
              "(9521, 4)"
            ]
          },
          "metadata": {
            "tags": []
          },
          "execution_count": 6
        }
      ]
    },
    {
      "cell_type": "markdown",
      "metadata": {
        "id": "6ZDB3vzc273N",
        "colab_type": "text"
      },
      "source": [
        "#Split train and test"
      ]
    },
    {
      "cell_type": "markdown",
      "metadata": {
        "id": "wiLvYOQAOff_",
        "colab_type": "text"
      },
      "source": [
        "80% train 20% test"
      ]
    },
    {
      "cell_type": "code",
      "metadata": {
        "id": "Cq-pxj5V29T1",
        "colab_type": "code",
        "colab": {}
      },
      "source": [
        "from sklearn.model_selection import train_test_split\n",
        "train, test = train_test_split(dataset, test_size=0.2, random_state=42)"
      ],
      "execution_count": 5,
      "outputs": []
    },
    {
      "cell_type": "code",
      "metadata": {
        "id": "YC4WZquo2_wE",
        "colab_type": "code",
        "colab": {
          "base_uri": "https://localhost:8080/",
          "height": 204
        },
        "outputId": "e9b03130-a19b-4105-a46c-ee41432f2ef4"
      },
      "source": [
        "train.head()"
      ],
      "execution_count": 8,
      "outputs": [
        {
          "output_type": "execute_result",
          "data": {
            "text/html": [
              "<div>\n",
              "<style scoped>\n",
              "    .dataframe tbody tr th:only-of-type {\n",
              "        vertical-align: middle;\n",
              "    }\n",
              "\n",
              "    .dataframe tbody tr th {\n",
              "        vertical-align: top;\n",
              "    }\n",
              "\n",
              "    .dataframe thead th {\n",
              "        text-align: right;\n",
              "    }\n",
              "</style>\n",
              "<table border=\"1\" class=\"dataframe\">\n",
              "  <thead>\n",
              "    <tr style=\"text-align: right;\">\n",
              "      <th></th>\n",
              "      <th>NOME_PRODUTO</th>\n",
              "      <th>QUANTIDADE</th>\n",
              "      <th>COD_CLIENTE</th>\n",
              "      <th>COD_PRODUTO</th>\n",
              "    </tr>\n",
              "  </thead>\n",
              "  <tbody>\n",
              "    <tr>\n",
              "      <th>6753</th>\n",
              "      <td>SMARTPHONE LG K11 PLUS DB AZUL</td>\n",
              "      <td>1.0</td>\n",
              "      <td>5258</td>\n",
              "      <td>205</td>\n",
              "    </tr>\n",
              "    <tr>\n",
              "      <th>3018</th>\n",
              "      <td>SMARTPHONE SAMSUNG GALAXY J4 PLUS 32GB PRETO</td>\n",
              "      <td>1.0</td>\n",
              "      <td>2429</td>\n",
              "      <td>71</td>\n",
              "    </tr>\n",
              "    <tr>\n",
              "      <th>5224</th>\n",
              "      <td>TELEVISOR SMART 32\" UN32J4290 SAMSUNG</td>\n",
              "      <td>1.0</td>\n",
              "      <td>4134</td>\n",
              "      <td>50</td>\n",
              "    </tr>\n",
              "    <tr>\n",
              "      <th>7934</th>\n",
              "      <td>CAIXA AMPLIFICADA CM-09 CONNECT DJ CONTROLLER</td>\n",
              "      <td>1.0</td>\n",
              "      <td>6152</td>\n",
              "      <td>16</td>\n",
              "    </tr>\n",
              "    <tr>\n",
              "      <th>9264</th>\n",
              "      <td>SMARTPHONE SAMSUNG GAL J2 CORE 16GB PRETO</td>\n",
              "      <td>1.0</td>\n",
              "      <td>7124</td>\n",
              "      <td>25</td>\n",
              "    </tr>\n",
              "  </tbody>\n",
              "</table>\n",
              "</div>"
            ],
            "text/plain": [
              "                                       NOME_PRODUTO  ...  COD_PRODUTO\n",
              "6753  SMARTPHONE LG K11 PLUS DB AZUL                 ...          205\n",
              "3018  SMARTPHONE SAMSUNG GALAXY J4 PLUS 32GB PRETO   ...           71\n",
              "5224  TELEVISOR SMART 32\" UN32J4290 SAMSUNG          ...           50\n",
              "7934  CAIXA AMPLIFICADA CM-09 CONNECT DJ CONTROLLER  ...           16\n",
              "9264  SMARTPHONE SAMSUNG GAL J2 CORE 16GB PRETO      ...           25\n",
              "\n",
              "[5 rows x 4 columns]"
            ]
          },
          "metadata": {
            "tags": []
          },
          "execution_count": 8
        }
      ]
    },
    {
      "cell_type": "code",
      "metadata": {
        "id": "IJ1KFE3L3Ayc",
        "colab_type": "code",
        "colab": {
          "base_uri": "https://localhost:8080/",
          "height": 204
        },
        "outputId": "9c1886fc-a408-4eef-874d-79d816045655"
      },
      "source": [
        "test.head()"
      ],
      "execution_count": 9,
      "outputs": [
        {
          "output_type": "execute_result",
          "data": {
            "text/html": [
              "<div>\n",
              "<style scoped>\n",
              "    .dataframe tbody tr th:only-of-type {\n",
              "        vertical-align: middle;\n",
              "    }\n",
              "\n",
              "    .dataframe tbody tr th {\n",
              "        vertical-align: top;\n",
              "    }\n",
              "\n",
              "    .dataframe thead th {\n",
              "        text-align: right;\n",
              "    }\n",
              "</style>\n",
              "<table border=\"1\" class=\"dataframe\">\n",
              "  <thead>\n",
              "    <tr style=\"text-align: right;\">\n",
              "      <th></th>\n",
              "      <th>NOME_PRODUTO</th>\n",
              "      <th>QUANTIDADE</th>\n",
              "      <th>COD_CLIENTE</th>\n",
              "      <th>COD_PRODUTO</th>\n",
              "    </tr>\n",
              "  </thead>\n",
              "  <tbody>\n",
              "    <tr>\n",
              "      <th>8668</th>\n",
              "      <td>TELEVISOR 32\" 32S6500S HD LED SEMP TCL</td>\n",
              "      <td>1.0</td>\n",
              "      <td>11</td>\n",
              "      <td>79</td>\n",
              "    </tr>\n",
              "    <tr>\n",
              "      <th>8391</th>\n",
              "      <td>SMARTPHONE SAMSUNG GAL A10  A105 32GB PRETO</td>\n",
              "      <td>1.0</td>\n",
              "      <td>6496</td>\n",
              "      <td>40</td>\n",
              "    </tr>\n",
              "    <tr>\n",
              "      <th>3879</th>\n",
              "      <td>PEN DRIVE 8GB PD587 TWIST PRETO</td>\n",
              "      <td>1.0</td>\n",
              "      <td>3100</td>\n",
              "      <td>33</td>\n",
              "    </tr>\n",
              "    <tr>\n",
              "      <th>5165</th>\n",
              "      <td>SMARTPHONE LG K8 PLUS PLATINUM</td>\n",
              "      <td>1.0</td>\n",
              "      <td>4093</td>\n",
              "      <td>113</td>\n",
              "    </tr>\n",
              "    <tr>\n",
              "      <th>7847</th>\n",
              "      <td>SMARTPHONE SAMSUNG GAL J2 CORE 16GB PRATA</td>\n",
              "      <td>1.0</td>\n",
              "      <td>6083</td>\n",
              "      <td>21</td>\n",
              "    </tr>\n",
              "  </tbody>\n",
              "</table>\n",
              "</div>"
            ],
            "text/plain": [
              "                                       NOME_PRODUTO  ...  COD_PRODUTO\n",
              "8668  TELEVISOR 32\" 32S6500S HD LED SEMP TCL         ...           79\n",
              "8391  SMARTPHONE SAMSUNG GAL A10  A105 32GB PRETO    ...           40\n",
              "3879  PEN DRIVE 8GB PD587 TWIST PRETO                ...           33\n",
              "5165  SMARTPHONE LG K8 PLUS PLATINUM                 ...          113\n",
              "7847  SMARTPHONE SAMSUNG GAL J2 CORE 16GB PRATA      ...           21\n",
              "\n",
              "[5 rows x 4 columns]"
            ]
          },
          "metadata": {
            "tags": []
          },
          "execution_count": 9
        }
      ]
    },
    {
      "cell_type": "code",
      "metadata": {
        "id": "FXDLUiqi3CUf",
        "colab_type": "code",
        "colab": {
          "base_uri": "https://localhost:8080/",
          "height": 34
        },
        "outputId": "96edeb7f-1d0b-45b0-ded0-bf1ba57dba60"
      },
      "source": [
        "n_users = len(dataset.COD_CLIENTE.unique())\n",
        "n_users"
      ],
      "execution_count": 6,
      "outputs": [
        {
          "output_type": "execute_result",
          "data": {
            "text/plain": [
              "7305"
            ]
          },
          "metadata": {
            "tags": []
          },
          "execution_count": 6
        }
      ]
    },
    {
      "cell_type": "code",
      "metadata": {
        "id": "CYwvpBje3E66",
        "colab_type": "code",
        "colab": {
          "base_uri": "https://localhost:8080/",
          "height": 34
        },
        "outputId": "c561bdd7-512c-4e88-bc7b-643dfcd7a614"
      },
      "source": [
        "n_prod = len(dataset.COD_PRODUTO.unique())\n",
        "n_prod"
      ],
      "execution_count": 7,
      "outputs": [
        {
          "output_type": "execute_result",
          "data": {
            "text/plain": [
              "312"
            ]
          },
          "metadata": {
            "tags": []
          },
          "execution_count": 7
        }
      ]
    },
    {
      "cell_type": "markdown",
      "metadata": {
        "id": "kboTV5gwXPcm",
        "colab_type": "text"
      },
      "source": [
        "# Creating Neural Network\n",
        "Neural Networks proved there effectivness for almost every machine learning problem as of now and they also perform exceptionally well for recommendation systems."
      ]
    },
    {
      "cell_type": "code",
      "metadata": {
        "id": "EZyAbV2IXdz4",
        "colab_type": "code",
        "colab": {}
      },
      "source": [
        "# creating book embedding path\n",
        "book_input = Input(shape=[1], name=\"Book-Input\")\n",
        "book_embedding = Embedding(n_prod+1, 5, name=\"Book-Embedding\")(book_input)\n",
        "book_vec = Flatten(name=\"Flatten-Books\")(book_embedding)\n",
        "\n",
        "# creating user embedding path\n",
        "user_input = Input(shape=[1], name=\"User-Input\")\n",
        "user_embedding = Embedding(n_users+1, 5, name=\"User-Embedding\")(user_input)\n",
        "user_vec = Flatten(name=\"Flatten-Users\")(user_embedding)\n",
        "\n",
        "# concatenate features\n",
        "conc = Concatenate()([book_vec, user_vec])\n",
        "\n",
        "# add fully-connected-layers\n",
        "fc1 = Dense(128, activation='relu')(conc)\n",
        "fc2 = Dense(32, activation='relu')(fc1)\n",
        "out = Dense(1)(fc2)\n",
        "\n",
        "# Create model and compile it\n",
        "model2 = Model([user_input, book_input], out)\n",
        "model2.compile('adam', 'mean_squared_error')"
      ],
      "execution_count": 8,
      "outputs": []
    },
    {
      "cell_type": "code",
      "metadata": {
        "id": "93gl42y_Xvkn",
        "colab_type": "code",
        "colab": {}
      },
      "source": [
        "from keras.models import load_model\n",
        "\n",
        "if os.path.exists('regression_model2.h5'):\n",
        "    model2 = load_model('regression_model2.h5')\n",
        "else:\n",
        "    history = model2.fit([train.COD_CLIENTE, train.COD_PRODUTO], train.QUANTIDADE, epochs=30, verbose=1)\n",
        "    model2.save('regression_model2.h5')\n",
        "    plt.plot(history.history['loss'])\n",
        "    plt.xlabel(\"Epochs\")\n",
        "    plt.ylabel(\"Training Error\")"
      ],
      "execution_count": 9,
      "outputs": []
    },
    {
      "cell_type": "markdown",
      "metadata": {
        "id": "j1DbWZfuOv5C",
        "colab_type": "text"
      },
      "source": [
        "showing the loss in validation"
      ]
    },
    {
      "cell_type": "code",
      "metadata": {
        "id": "HgoraQihX28o",
        "colab_type": "code",
        "colab": {
          "base_uri": "https://localhost:8080/",
          "height": 51
        },
        "outputId": "f844e239-35aa-486a-d229-80072961243e"
      },
      "source": [
        "model2.evaluate([test.COD_CLIENTE, test.COD_PRODUTO], test.QUANTIDADE)"
      ],
      "execution_count": 10,
      "outputs": [
        {
          "output_type": "stream",
          "text": [
            "1905/1905 [==============================] - 0s 38us/step\n"
          ],
          "name": "stdout"
        },
        {
          "output_type": "execute_result",
          "data": {
            "text/plain": [
              "2.5784282769743854"
            ]
          },
          "metadata": {
            "tags": []
          },
          "execution_count": 10
        }
      ]
    },
    {
      "cell_type": "markdown",
      "metadata": {
        "id": "npQNui9r8BpE",
        "colab_type": "text"
      },
      "source": [
        "# Making Recommendations"
      ]
    },
    {
      "cell_type": "code",
      "metadata": {
        "id": "Jzh77jT6KG3v",
        "colab_type": "code",
        "colab": {}
      },
      "source": [
        "\n",
        "def making_recom(user_data, prod_data, n):\n",
        "  #Get a np.array with user id and a numpy array with product saw by him and return a dataframe with 5 recommendations\n",
        "  #user_data = numpy array with a client id number\n",
        "  #prod_data = numpy array with one or more products that said client saw and want recommendation\n",
        "  #n  = number of recommendations\n",
        "  #return a dataframe with n recommendations\n",
        "\n",
        "  predictions = model2.predict([user_data, prod_data])\n",
        "  predictions = np.array([a[0] for a in predictions])\n",
        "  recommend_prod_ids = (-predictions).argsort()[:10]\n",
        "  products = pd.read_csv('produtos.csv')\n",
        "  \n",
        "  reco = products[products['COD_PRODUTO'].isin(recommend_prod_ids)]\n",
        "  \n",
        "  return reco"
      ],
      "execution_count": 46,
      "outputs": []
    },
    {
      "cell_type": "code",
      "metadata": {
        "id": "f_Fn3WGJQi2Y",
        "colab_type": "code",
        "colab": {
          "base_uri": "https://localhost:8080/",
          "height": 68
        },
        "outputId": "ad7da33e-b0ab-4a04-ac5c-397776129525"
      },
      "source": [
        "#Creating user id\n",
        "user = np.array([1 for i in range(len(book_data))])\n",
        "#user = np.array([1])\n",
        "products = pd.read_csv('produtos.csv')\n",
        "user_prod = products[products['COD_PRODUTO'].isin(user)]\n",
        "print(user_prod)\n",
        "prod_data = np.array(list(set(dataset.COD_PRODUTO)))\n",
        "prod_data[:5]"
      ],
      "execution_count": 53,
      "outputs": [
        {
          "output_type": "stream",
          "text": [
            "                                    NOME_PRODUTO  COD_PRODUTO\n",
            "0  SMARTPHONE SAMSUNG GAL J4 CORE 16GB COBRE                1\n"
          ],
          "name": "stdout"
        },
        {
          "output_type": "execute_result",
          "data": {
            "text/plain": [
              "array([1, 2, 3, 4, 5])"
            ]
          },
          "metadata": {
            "tags": []
          },
          "execution_count": 53
        }
      ]
    },
    {
      "cell_type": "code",
      "metadata": {
        "id": "cfBdLQ7-QxzM",
        "colab_type": "code",
        "colab": {
          "base_uri": "https://localhost:8080/",
          "height": 102
        },
        "outputId": "55de7700-58d5-42de-ecd3-25d7b8d6fb77"
      },
      "source": [
        "making_recom(user, prod_data)"
      ],
      "execution_count": 54,
      "outputs": [
        {
          "output_type": "stream",
          "text": [
            "                                     NOME_PRODUTO  COD_PRODUTO\n",
            "6   SMARTPHONE LG K9 TV LM-X210BMW INDIGO                    7\n",
            "12  DVD D-15 KARAOKE MONDIAL                                13\n",
            "41  TELEVISOR SMART 50\" UHD BT UN50RU7100 SAMSUNG           42\n",
            "97  TELEVISOR SMART 32 PTV32N87SA LED PHILCO                98\n"
          ],
          "name": "stdout"
        }
      ]
    },
    {
      "cell_type": "code",
      "metadata": {
        "id": "EaRKA2sUVb--",
        "colab_type": "code",
        "colab": {}
      },
      "source": [
        "len(book_data)"
      ],
      "execution_count": null,
      "outputs": []
    }
  ]
}